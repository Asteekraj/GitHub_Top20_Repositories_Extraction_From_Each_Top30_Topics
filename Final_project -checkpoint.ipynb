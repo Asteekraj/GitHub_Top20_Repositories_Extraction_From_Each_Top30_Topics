{
 "cells": [
  {
   "cell_type": "markdown",
   "id": "ffe8ddbe-9117-44f3-85e3-c40bbc977436",
   "metadata": {},
   "source": [
    "### Scraping Top Repositories for Topics on GitHub "
   ]
  },
  {
   "cell_type": "markdown",
   "id": "a4a65e3f-5ca6-499d-bd80-5b5973351b65",
   "metadata": {},
   "source": [
    "## Project Outline:\n",
    "*  I'm going to scrape https://github.com/topics\n",
    "*  I'll get a list of topics. For each topic,  I'll get topic title, topic page url and topic description.\n",
    "*  For each topic,  I'll get the 20 repositories in the topic from the topic page.\n",
    "*  For each repository,  I'll grab the repo name, username, stars and repo url.\n",
    "*  For each topic,  I'll create a CSV file."
   ]
  },
  {
   "cell_type": "markdown",
   "id": "44175647-19b3-4216-824e-b3e4cc67baf1",
   "metadata": {},
   "source": [
    "### Scrap the list of topics from GitHub \n",
    "*  use requests to download the page \n",
    "*  use bs4 to parse and extract information\n",
    "*  convert to the dataframe"
   ]
  },
  {
   "cell_type": "code",
   "execution_count": 1,
   "id": "74835050-768d-4733-b166-bb3e8f26d49c",
   "metadata": {},
   "outputs": [
    {
     "name": "stderr",
     "output_type": "stream",
     "text": [
      "\n",
      "[notice] A new release of pip is available: 23.1.2 -> 23.2.1\n",
      "[notice] To update, run: python.exe -m pip install --upgrade pip\n",
      "\n",
      "[notice] A new release of pip is available: 23.1.2 -> 23.2.1\n",
      "[notice] To update, run: python.exe -m pip install --upgrade pip\n",
      "\n",
      "[notice] A new release of pip is available: 23.1.2 -> 23.2.1\n",
      "[notice] To update, run: python.exe -m pip install --upgrade pip\n"
     ]
    }
   ],
   "source": [
    "!pip install requests  --upgrade --quiet\n",
    "!pip install BeautifulSoup4  --upgrade --quiet\n",
    "!pip install Pandas    --quiet\n",
    "\n",
    "# ! is used when we want to install modules into code cell inspite of using terminal.\n",
    "# upgrade gives the updated version of module\n",
    "# quiet is used to install module quietly without showing the installing executions on console\n",
    "\n",
    "import requests\n",
    "from bs4 import BeautifulSoup as bs \n",
    "import pandas as pd\n",
    "import os\n",
    "\n",
    "# os is used to make smaller alias to avoid writing the large name \n",
    "\n",
    "def get_topic_page():\n",
    "    topics_url = 'https://github.com/topics'\n",
    "    response = requests.get(topics_url)\n",
    "    if response.status_code != 200:\n",
    "        raise Exception ('Failed to fetch page{}'.format(topics_url))\n",
    "    doc = bs(response.text, 'html.parser')\n",
    "    return doc"
   ]
  },
  {
   "cell_type": "code",
   "execution_count": 2,
   "id": "50b25619-49e5-4cc3-88db-9587eacb3180",
   "metadata": {},
   "outputs": [],
   "source": [
    "doc = get_topic_page()"
   ]
  },
  {
   "cell_type": "code",
   "execution_count": 3,
   "id": "d683d839-0249-4f70-89bd-d3680a7194a6",
   "metadata": {},
   "outputs": [
    {
     "data": {
      "text/plain": [
       "7657"
      ]
     },
     "execution_count": 3,
     "metadata": {},
     "output_type": "execute_result"
    }
   ],
   "source": [
    "len(doc.text)"
   ]
  },
  {
   "cell_type": "code",
   "execution_count": 4,
   "id": "026f143e-e8fb-4e62-b036-5ec592ff795e",
   "metadata": {},
   "outputs": [
    {
     "data": {
      "text/plain": [
       "bs4.BeautifulSoup"
      ]
     },
     "execution_count": 4,
     "metadata": {},
     "output_type": "execute_result"
    }
   ],
   "source": [
    "type(doc)"
   ]
  },
  {
   "cell_type": "markdown",
   "id": "9186f842-9667-4632-908a-5798007e79e5",
   "metadata": {},
   "source": [
    "### Fetching the topic titles"
   ]
  },
  {
   "cell_type": "code",
   "execution_count": 5,
   "id": "20150cf8-9e72-4e5c-b5fa-7a537fc2811d",
   "metadata": {},
   "outputs": [],
   "source": [
    "def get_topic_titles(doc):\n",
    "    topic_class = 'f3 lh-condensed mb-0 mt-1 Link--primary'\n",
    "    topic_title_tags = doc.find_all('p',{'class' : topic_class})\n",
    "    topic_titles = [tag.text for tag in topic_title_tags]\n",
    "    return topic_titles\n",
    "    "
   ]
  },
  {
   "cell_type": "markdown",
   "id": "b03a5102-3d4a-4cfb-b205-be3d589c80d5",
   "metadata": {},
   "source": [
    "To get topic titles, we can pick 'p' tags with the 'class' =  'f3 lh-condensed mb-0 mt-1 Link--primary'\n"
   ]
  },
  {
   "cell_type": "code",
   "execution_count": 6,
   "id": "016781e5-dc70-4d58-9691-b0857c5a3b51",
   "metadata": {},
   "outputs": [],
   "source": [
    "topic_titles = get_topic_titles(doc)"
   ]
  },
  {
   "cell_type": "code",
   "execution_count": 7,
   "id": "af0cf26c-d5fd-40f7-954a-2488a12d4c84",
   "metadata": {},
   "outputs": [
    {
     "data": {
      "text/plain": [
       "30"
      ]
     },
     "execution_count": 7,
     "metadata": {},
     "output_type": "execute_result"
    }
   ],
   "source": [
    "len(topic_titles)"
   ]
  },
  {
   "cell_type": "code",
   "execution_count": 8,
   "id": "e1ad970a-1391-40de-ac90-0aba3270afab",
   "metadata": {},
   "outputs": [
    {
     "data": {
      "text/plain": [
       "list"
      ]
     },
     "execution_count": 8,
     "metadata": {},
     "output_type": "execute_result"
    }
   ],
   "source": [
    "type(topic_titles)"
   ]
  },
  {
   "cell_type": "code",
   "execution_count": 9,
   "id": "0a22e99e-b988-45e8-88a7-41858f0033a7",
   "metadata": {},
   "outputs": [
    {
     "data": {
      "text/plain": [
       "['3D', 'Ajax', 'Algorithm', 'Amp', 'Android']"
      ]
     },
     "execution_count": 9,
     "metadata": {},
     "output_type": "execute_result"
    }
   ],
   "source": [
    "topic_titles[:5]"
   ]
  },
  {
   "cell_type": "markdown",
   "id": "d9310975-9554-4e83-83be-950499929fe5",
   "metadata": {},
   "source": [
    "### Fetching the topic descriptions"
   ]
  },
  {
   "cell_type": "code",
   "execution_count": 10,
   "id": "939af4b4-8a5b-4000-9070-305d739bbbe4",
   "metadata": {},
   "outputs": [],
   "source": [
    "def get_topic_descs(doc):\n",
    "    desc_class = 'f5 color-fg-muted mb-0 mt-1'\n",
    "    topic_desc_tags = doc.find_all('p',{'class' : desc_class})\n",
    "    topic_descs = [tag.text.strip() for tag in topic_desc_tags]\n",
    "    return topic_descs"
   ]
  },
  {
   "cell_type": "markdown",
   "id": "e965b1c8-eede-459e-beed-a5b5a1cd53ee",
   "metadata": {},
   "source": [
    "To get topic describtion, we can pick 'p' tags with the 'class' = 'f5 color-fg-muted mb-0 mt-1'"
   ]
  },
  {
   "cell_type": "code",
   "execution_count": 11,
   "id": "5621ae13-8ca4-4931-8213-90de567d206f",
   "metadata": {},
   "outputs": [],
   "source": [
    "topic_descs = get_topic_descs(doc)"
   ]
  },
  {
   "cell_type": "code",
   "execution_count": 12,
   "id": "3c0c8d4a-8b0a-4a44-b9a4-dd4a3250d34f",
   "metadata": {},
   "outputs": [
    {
     "data": {
      "text/plain": [
       "30"
      ]
     },
     "execution_count": 12,
     "metadata": {},
     "output_type": "execute_result"
    }
   ],
   "source": [
    "len(topic_descs)"
   ]
  },
  {
   "cell_type": "code",
   "execution_count": 13,
   "id": "ac2467dc-c3c6-42ea-b965-a207696e9741",
   "metadata": {},
   "outputs": [
    {
     "data": {
      "text/plain": [
       "list"
      ]
     },
     "execution_count": 13,
     "metadata": {},
     "output_type": "execute_result"
    }
   ],
   "source": [
    "type(topic_descs)"
   ]
  },
  {
   "cell_type": "code",
   "execution_count": 14,
   "id": "d80ebe2b-de3a-42ce-a5d0-c57d4473cb88",
   "metadata": {},
   "outputs": [
    {
     "data": {
      "text/plain": [
       "['3D refers to the use of three-dimensional graphics, modeling, and animation in various industries.',\n",
       " 'Ajax is a technique for creating interactive web applications.',\n",
       " 'Algorithms are self-contained sequences that carry out a variety of tasks.',\n",
       " 'Amp is a non-blocking concurrency library for PHP.',\n",
       " 'Android is an operating system built by Google designed for mobile devices.']"
      ]
     },
     "execution_count": 14,
     "metadata": {},
     "output_type": "execute_result"
    }
   ],
   "source": [
    "topic_descs[:5]"
   ]
  },
  {
   "cell_type": "markdown",
   "id": "ddbc87e5-b944-4b98-84a7-72af4ff41bdd",
   "metadata": {},
   "source": [
    "### Fetching topic urls"
   ]
  },
  {
   "cell_type": "code",
   "execution_count": 15,
   "id": "da985188-299a-434f-9b42-e3703634737c",
   "metadata": {},
   "outputs": [],
   "source": [
    "def get_topics_url(doc):\n",
    "    base_url = 'https://github.com'\n",
    "    url_class = 'no-underline flex-1 d-flex flex-column'\n",
    "    topic_url_tags = doc.find_all('a',{'class' : url_class})\n",
    "    topic_urls = [ base_url+tag['href'] for tag in topic_url_tags]\n",
    "    return topic_urls"
   ]
  },
  {
   "cell_type": "markdown",
   "id": "fb783954-a1bb-4bbe-83d3-119a82947b3d",
   "metadata": {},
   "source": [
    "To get topic urls, we can pick 'a' tags with the 'class' = 'no-underline flex-1 d-flex flex-column'"
   ]
  },
  {
   "cell_type": "code",
   "execution_count": 16,
   "id": "c3f5cba6-44dd-4a6a-ae31-bea6e7f4528e",
   "metadata": {},
   "outputs": [],
   "source": [
    "topic_urls = get_topics_url(doc)"
   ]
  },
  {
   "cell_type": "code",
   "execution_count": 17,
   "id": "51e42588-6307-43ad-98f0-292a9116a80e",
   "metadata": {},
   "outputs": [
    {
     "data": {
      "text/plain": [
       "30"
      ]
     },
     "execution_count": 17,
     "metadata": {},
     "output_type": "execute_result"
    }
   ],
   "source": [
    "len(topic_urls)"
   ]
  },
  {
   "cell_type": "code",
   "execution_count": 18,
   "id": "684d03fd-9df2-4bc8-b50b-6359bf94310d",
   "metadata": {},
   "outputs": [
    {
     "data": {
      "text/plain": [
       "list"
      ]
     },
     "execution_count": 18,
     "metadata": {},
     "output_type": "execute_result"
    }
   ],
   "source": [
    "type(topic_urls)"
   ]
  },
  {
   "cell_type": "code",
   "execution_count": 19,
   "id": "4e50310a-d03a-4e53-a586-5008da08db0f",
   "metadata": {},
   "outputs": [
    {
     "data": {
      "text/plain": [
       "['https://github.com/topics/3d',\n",
       " 'https://github.com/topics/ajax',\n",
       " 'https://github.com/topics/algorithm',\n",
       " 'https://github.com/topics/amphp',\n",
       " 'https://github.com/topics/android']"
      ]
     },
     "execution_count": 19,
     "metadata": {},
     "output_type": "execute_result"
    }
   ],
   "source": [
    "topic_urls[:5]"
   ]
  },
  {
   "cell_type": "markdown",
   "id": "2efb2171-41e2-4d47-ad80-151183eb4700",
   "metadata": {},
   "source": [
    "### Putting the all code together to create a Pandas dataframe"
   ]
  },
  {
   "cell_type": "code",
   "execution_count": 20,
   "id": "5a4f1f0a-c2df-4b2b-af0f-68bd04fac479",
   "metadata": {},
   "outputs": [],
   "source": [
    "def scrap_topics():\n",
    "    topics_url = 'https://github.com/topics'\n",
    "    response = requests.get(topics_url)\n",
    "    if response.status_code != 200:\n",
    "        raise Exception ('Failed to fetch page{}'.format(topics_url))\n",
    "    doc = bs(response.text, 'html.parser')\n",
    "    topic_dict = { \n",
    "        'Topic' : get_topic_titles(doc),\n",
    "        'Description' : get_topic_descs(doc),\n",
    "        'URL' : get_topics_url(doc)\n",
    "    }\n",
    "    \n",
    "    return pd.DataFrame(topic_dict)"
   ]
  },
  {
   "cell_type": "code",
   "execution_count": 21,
   "id": "52fba61b-c11d-4d81-bf35-1e4861f0efab",
   "metadata": {},
   "outputs": [],
   "source": [
    "topics_table = scrap_topics()"
   ]
  },
  {
   "cell_type": "code",
   "execution_count": 22,
   "id": "742fd834-e242-4a72-8da7-91324a7f01e8",
   "metadata": {},
   "outputs": [
    {
     "data": {
      "text/html": [
       "<div>\n",
       "<style scoped>\n",
       "    .dataframe tbody tr th:only-of-type {\n",
       "        vertical-align: middle;\n",
       "    }\n",
       "\n",
       "    .dataframe tbody tr th {\n",
       "        vertical-align: top;\n",
       "    }\n",
       "\n",
       "    .dataframe thead th {\n",
       "        text-align: right;\n",
       "    }\n",
       "</style>\n",
       "<table border=\"1\" class=\"dataframe\">\n",
       "  <thead>\n",
       "    <tr style=\"text-align: right;\">\n",
       "      <th></th>\n",
       "      <th>Topic</th>\n",
       "      <th>Description</th>\n",
       "      <th>URL</th>\n",
       "    </tr>\n",
       "  </thead>\n",
       "  <tbody>\n",
       "    <tr>\n",
       "      <th>0</th>\n",
       "      <td>3D</td>\n",
       "      <td>3D refers to the use of three-dimensional grap...</td>\n",
       "      <td>https://github.com/topics/3d</td>\n",
       "    </tr>\n",
       "    <tr>\n",
       "      <th>1</th>\n",
       "      <td>Ajax</td>\n",
       "      <td>Ajax is a technique for creating interactive w...</td>\n",
       "      <td>https://github.com/topics/ajax</td>\n",
       "    </tr>\n",
       "    <tr>\n",
       "      <th>2</th>\n",
       "      <td>Algorithm</td>\n",
       "      <td>Algorithms are self-contained sequences that c...</td>\n",
       "      <td>https://github.com/topics/algorithm</td>\n",
       "    </tr>\n",
       "    <tr>\n",
       "      <th>3</th>\n",
       "      <td>Amp</td>\n",
       "      <td>Amp is a non-blocking concurrency library for ...</td>\n",
       "      <td>https://github.com/topics/amphp</td>\n",
       "    </tr>\n",
       "    <tr>\n",
       "      <th>4</th>\n",
       "      <td>Android</td>\n",
       "      <td>Android is an operating system built by Google...</td>\n",
       "      <td>https://github.com/topics/android</td>\n",
       "    </tr>\n",
       "  </tbody>\n",
       "</table>\n",
       "</div>"
      ],
      "text/plain": [
       "       Topic                                        Description  \\\n",
       "0         3D  3D refers to the use of three-dimensional grap...   \n",
       "1       Ajax  Ajax is a technique for creating interactive w...   \n",
       "2  Algorithm  Algorithms are self-contained sequences that c...   \n",
       "3        Amp  Amp is a non-blocking concurrency library for ...   \n",
       "4    Android  Android is an operating system built by Google...   \n",
       "\n",
       "                                   URL  \n",
       "0         https://github.com/topics/3d  \n",
       "1       https://github.com/topics/ajax  \n",
       "2  https://github.com/topics/algorithm  \n",
       "3      https://github.com/topics/amphp  \n",
       "4    https://github.com/topics/android  "
      ]
     },
     "execution_count": 22,
     "metadata": {},
     "output_type": "execute_result"
    }
   ],
   "source": [
    "topics_table[:5]"
   ]
  },
  {
   "cell_type": "markdown",
   "id": "ba8e5ffb-96d9-4d93-a0c0-0ccffbd50881",
   "metadata": {},
   "source": [
    "### Getting the top 20 repositories from a Topic Page"
   ]
  },
  {
   "cell_type": "markdown",
   "id": "48217f10-0e91-4073-8fe2-b8927056ac1c",
   "metadata": {},
   "source": [
    "### Fetching the Topic Page"
   ]
  },
  {
   "cell_type": "code",
   "execution_count": 23,
   "id": "41c9ef89-3a82-4dd5-a834-92c25daad71a",
   "metadata": {},
   "outputs": [],
   "source": [
    "def get_topic_page(topic_url):\n",
    "    response = requests.get(topic_url)\n",
    "    if response.status_code != 200:\n",
    "        raise Exception ('Failed to fetch page{}'.format(topic_url))\n",
    "    topic_doc = bs(response.text, 'html.parser')\n",
    "    return topic_doc\n",
    "    "
   ]
  },
  {
   "cell_type": "code",
   "execution_count": 24,
   "id": "0a68a44c-a81e-4739-9a36-1523d0495918",
   "metadata": {},
   "outputs": [],
   "source": [
    "# For an example:\n",
    "\n",
    "topic_doc = get_topic_page('https://github.com/topics/3d')"
   ]
  },
  {
   "cell_type": "code",
   "execution_count": 25,
   "id": "b3c2f995-832e-45fb-9367-52920c307991",
   "metadata": {},
   "outputs": [
    {
     "data": {
      "text/plain": [
       "16978"
      ]
     },
     "execution_count": 25,
     "metadata": {},
     "output_type": "execute_result"
    }
   ],
   "source": [
    "len(topic_doc.text)"
   ]
  },
  {
   "cell_type": "code",
   "execution_count": 26,
   "id": "559bdc13-fb3f-4b41-bda3-ca41cdc68e12",
   "metadata": {},
   "outputs": [
    {
     "data": {
      "text/plain": [
       "bs4.BeautifulSoup"
      ]
     },
     "execution_count": 26,
     "metadata": {},
     "output_type": "execute_result"
    }
   ],
   "source": [
    "type(topic_doc)"
   ]
  },
  {
   "cell_type": "markdown",
   "id": "29644c4d-df2c-4bc4-8233-1e691ae6a2b9",
   "metadata": {},
   "source": [
    "### Fetching the Stars of repositories"
   ]
  },
  {
   "cell_type": "code",
   "execution_count": 27,
   "id": "6eea7d9d-20aa-42a3-bcb7-9a3f4584d123",
   "metadata": {},
   "outputs": [],
   "source": [
    "def parse_star_count(stars):\n",
    "    stars = stars.strip()\n",
    "    if stars[-1] == 'k':\n",
    "        return int(float(stars[:-1])*1000)\n",
    "    return int(stars)"
   ]
  },
  {
   "cell_type": "markdown",
   "id": "9b0d5ae0-0ab6-41c0-8928-b31aeef2490d",
   "metadata": {},
   "source": [
    "### Fetching the Repositories of Topic"
   ]
  },
  {
   "cell_type": "code",
   "execution_count": 28,
   "id": "e03fe113-7ca3-423c-a803-8e917aa26660",
   "metadata": {},
   "outputs": [],
   "source": [
    "def get_repo_info(h3_tag, star_tag):\n",
    "    a_tags = h3_tag.find_all('a')\n",
    "    base_url = 'https://github.com'\n",
    "    username = a_tags[0].text.strip()\n",
    "    repo_name = a_tags[1].text.strip()\n",
    "    stars = parse_star_count(star_tag.text.strip())\n",
    "    repo_URL = base_url + a_tags[1]['href']\n",
    "    return username, repo_name, stars, repo_URL"
   ]
  },
  {
   "cell_type": "code",
   "execution_count": 29,
   "id": "61b69963-8dcb-489b-b405-d192e9a6906f",
   "metadata": {},
   "outputs": [],
   "source": [
    "def get_topic_repos(topic_doc):\n",
    "    \n",
    "    repo_class = 'f3 color-fg-muted text-normal lh-condensed'\n",
    "    repo_tags = topic_doc.find_all('h3',{'class' : repo_class})\n",
    "    \n",
    "    star_class = 'Counter js-social-count'\n",
    "    star_tags = topic_doc.find_all('span',{'class' : star_class})\n",
    "    \n",
    "    topic_repo_dict = {\n",
    "        'username' : [],\n",
    "        'repo_name' : [],\n",
    "        'stars' : [],\n",
    "        'repo_URL' : []\n",
    "    }\n",
    "    \n",
    "    for i in range(len(repo_tags)):\n",
    "        repo_info = get_repo_info(repo_tags[i], star_tags[i])\n",
    "        topic_repo_dict['username'].append(repo_info[0])\n",
    "        topic_repo_dict['repo_name'].append(repo_info[1])\n",
    "        topic_repo_dict['stars'].append(repo_info[2])\n",
    "        topic_repo_dict['repo_URL'].append(repo_info[3])\n",
    "        \n",
    "        \n",
    "    return pd.DataFrame(topic_repo_dict)\n",
    "        \n",
    "        "
   ]
  },
  {
   "cell_type": "code",
   "execution_count": 30,
   "id": "612a1dd8-6771-4e44-a220-bbb71c5859c5",
   "metadata": {},
   "outputs": [
    {
     "data": {
      "text/html": [
       "<div>\n",
       "<style scoped>\n",
       "    .dataframe tbody tr th:only-of-type {\n",
       "        vertical-align: middle;\n",
       "    }\n",
       "\n",
       "    .dataframe tbody tr th {\n",
       "        vertical-align: top;\n",
       "    }\n",
       "\n",
       "    .dataframe thead th {\n",
       "        text-align: right;\n",
       "    }\n",
       "</style>\n",
       "<table border=\"1\" class=\"dataframe\">\n",
       "  <thead>\n",
       "    <tr style=\"text-align: right;\">\n",
       "      <th></th>\n",
       "      <th>username</th>\n",
       "      <th>repo_name</th>\n",
       "      <th>stars</th>\n",
       "      <th>repo_URL</th>\n",
       "    </tr>\n",
       "  </thead>\n",
       "  <tbody>\n",
       "    <tr>\n",
       "      <th>0</th>\n",
       "      <td>mrdoob</td>\n",
       "      <td>three.js</td>\n",
       "      <td>94800</td>\n",
       "      <td>https://github.com/mrdoob/three.js</td>\n",
       "    </tr>\n",
       "    <tr>\n",
       "      <th>1</th>\n",
       "      <td>pmndrs</td>\n",
       "      <td>react-three-fiber</td>\n",
       "      <td>24000</td>\n",
       "      <td>https://github.com/pmndrs/react-three-fiber</td>\n",
       "    </tr>\n",
       "    <tr>\n",
       "      <th>2</th>\n",
       "      <td>libgdx</td>\n",
       "      <td>libgdx</td>\n",
       "      <td>22000</td>\n",
       "      <td>https://github.com/libgdx/libgdx</td>\n",
       "    </tr>\n",
       "    <tr>\n",
       "      <th>3</th>\n",
       "      <td>BabylonJS</td>\n",
       "      <td>Babylon.js</td>\n",
       "      <td>21500</td>\n",
       "      <td>https://github.com/BabylonJS/Babylon.js</td>\n",
       "    </tr>\n",
       "    <tr>\n",
       "      <th>4</th>\n",
       "      <td>ssloy</td>\n",
       "      <td>tinyrenderer</td>\n",
       "      <td>18000</td>\n",
       "      <td>https://github.com/ssloy/tinyrenderer</td>\n",
       "    </tr>\n",
       "    <tr>\n",
       "      <th>5</th>\n",
       "      <td>lettier</td>\n",
       "      <td>3d-game-shaders-for-beginners</td>\n",
       "      <td>16100</td>\n",
       "      <td>https://github.com/lettier/3d-game-shaders-for...</td>\n",
       "    </tr>\n",
       "    <tr>\n",
       "      <th>6</th>\n",
       "      <td>aframevr</td>\n",
       "      <td>aframe</td>\n",
       "      <td>15700</td>\n",
       "      <td>https://github.com/aframevr/aframe</td>\n",
       "    </tr>\n",
       "    <tr>\n",
       "      <th>7</th>\n",
       "      <td>FreeCAD</td>\n",
       "      <td>FreeCAD</td>\n",
       "      <td>15300</td>\n",
       "      <td>https://github.com/FreeCAD/FreeCAD</td>\n",
       "    </tr>\n",
       "    <tr>\n",
       "      <th>8</th>\n",
       "      <td>CesiumGS</td>\n",
       "      <td>cesium</td>\n",
       "      <td>11000</td>\n",
       "      <td>https://github.com/CesiumGS/cesium</td>\n",
       "    </tr>\n",
       "    <tr>\n",
       "      <th>9</th>\n",
       "      <td>MonoGame</td>\n",
       "      <td>MonoGame</td>\n",
       "      <td>10100</td>\n",
       "      <td>https://github.com/MonoGame/MonoGame</td>\n",
       "    </tr>\n",
       "    <tr>\n",
       "      <th>10</th>\n",
       "      <td>metafizzy</td>\n",
       "      <td>zdog</td>\n",
       "      <td>10000</td>\n",
       "      <td>https://github.com/metafizzy/zdog</td>\n",
       "    </tr>\n",
       "    <tr>\n",
       "      <th>11</th>\n",
       "      <td>blender</td>\n",
       "      <td>blender</td>\n",
       "      <td>9700</td>\n",
       "      <td>https://github.com/blender/blender</td>\n",
       "    </tr>\n",
       "    <tr>\n",
       "      <th>12</th>\n",
       "      <td>isl-org</td>\n",
       "      <td>Open3D</td>\n",
       "      <td>9500</td>\n",
       "      <td>https://github.com/isl-org/Open3D</td>\n",
       "    </tr>\n",
       "    <tr>\n",
       "      <th>13</th>\n",
       "      <td>timzhang642</td>\n",
       "      <td>3D-Machine-Learning</td>\n",
       "      <td>9200</td>\n",
       "      <td>https://github.com/timzhang642/3D-Machine-Lear...</td>\n",
       "    </tr>\n",
       "    <tr>\n",
       "      <th>14</th>\n",
       "      <td>a1studmuffin</td>\n",
       "      <td>SpaceshipGenerator</td>\n",
       "      <td>7500</td>\n",
       "      <td>https://github.com/a1studmuffin/SpaceshipGener...</td>\n",
       "    </tr>\n",
       "    <tr>\n",
       "      <th>15</th>\n",
       "      <td>domlysz</td>\n",
       "      <td>BlenderGIS</td>\n",
       "      <td>6700</td>\n",
       "      <td>https://github.com/domlysz/BlenderGIS</td>\n",
       "    </tr>\n",
       "    <tr>\n",
       "      <th>16</th>\n",
       "      <td>nerfstudio-project</td>\n",
       "      <td>nerfstudio</td>\n",
       "      <td>6700</td>\n",
       "      <td>https://github.com/nerfstudio-project/nerfstudio</td>\n",
       "    </tr>\n",
       "    <tr>\n",
       "      <th>17</th>\n",
       "      <td>FyroxEngine</td>\n",
       "      <td>Fyrox</td>\n",
       "      <td>6600</td>\n",
       "      <td>https://github.com/FyroxEngine/Fyrox</td>\n",
       "    </tr>\n",
       "    <tr>\n",
       "      <th>18</th>\n",
       "      <td>google</td>\n",
       "      <td>model-viewer</td>\n",
       "      <td>6000</td>\n",
       "      <td>https://github.com/google/model-viewer</td>\n",
       "    </tr>\n",
       "    <tr>\n",
       "      <th>19</th>\n",
       "      <td>openscad</td>\n",
       "      <td>openscad</td>\n",
       "      <td>5900</td>\n",
       "      <td>https://github.com/openscad/openscad</td>\n",
       "    </tr>\n",
       "  </tbody>\n",
       "</table>\n",
       "</div>"
      ],
      "text/plain": [
       "              username                      repo_name  stars  \\\n",
       "0               mrdoob                       three.js  94800   \n",
       "1               pmndrs              react-three-fiber  24000   \n",
       "2               libgdx                         libgdx  22000   \n",
       "3            BabylonJS                     Babylon.js  21500   \n",
       "4                ssloy                   tinyrenderer  18000   \n",
       "5              lettier  3d-game-shaders-for-beginners  16100   \n",
       "6             aframevr                         aframe  15700   \n",
       "7              FreeCAD                        FreeCAD  15300   \n",
       "8             CesiumGS                         cesium  11000   \n",
       "9             MonoGame                       MonoGame  10100   \n",
       "10           metafizzy                           zdog  10000   \n",
       "11             blender                        blender   9700   \n",
       "12             isl-org                         Open3D   9500   \n",
       "13         timzhang642            3D-Machine-Learning   9200   \n",
       "14        a1studmuffin             SpaceshipGenerator   7500   \n",
       "15             domlysz                     BlenderGIS   6700   \n",
       "16  nerfstudio-project                     nerfstudio   6700   \n",
       "17         FyroxEngine                          Fyrox   6600   \n",
       "18              google                   model-viewer   6000   \n",
       "19            openscad                       openscad   5900   \n",
       "\n",
       "                                             repo_URL  \n",
       "0                  https://github.com/mrdoob/three.js  \n",
       "1         https://github.com/pmndrs/react-three-fiber  \n",
       "2                    https://github.com/libgdx/libgdx  \n",
       "3             https://github.com/BabylonJS/Babylon.js  \n",
       "4               https://github.com/ssloy/tinyrenderer  \n",
       "5   https://github.com/lettier/3d-game-shaders-for...  \n",
       "6                  https://github.com/aframevr/aframe  \n",
       "7                  https://github.com/FreeCAD/FreeCAD  \n",
       "8                  https://github.com/CesiumGS/cesium  \n",
       "9                https://github.com/MonoGame/MonoGame  \n",
       "10                  https://github.com/metafizzy/zdog  \n",
       "11                 https://github.com/blender/blender  \n",
       "12                  https://github.com/isl-org/Open3D  \n",
       "13  https://github.com/timzhang642/3D-Machine-Lear...  \n",
       "14  https://github.com/a1studmuffin/SpaceshipGener...  \n",
       "15              https://github.com/domlysz/BlenderGIS  \n",
       "16   https://github.com/nerfstudio-project/nerfstudio  \n",
       "17               https://github.com/FyroxEngine/Fyrox  \n",
       "18             https://github.com/google/model-viewer  \n",
       "19               https://github.com/openscad/openscad  "
      ]
     },
     "execution_count": 30,
     "metadata": {},
     "output_type": "execute_result"
    }
   ],
   "source": [
    "get_topic_repos(topic_doc)"
   ]
  },
  {
   "cell_type": "markdown",
   "id": "b24ff0d4-33be-45cc-b5a6-b443505d3ce4",
   "metadata": {},
   "source": [
    "### Putting all repositories with their respective topic into a folder"
   ]
  },
  {
   "cell_type": "code",
   "execution_count": 31,
   "id": "90b6a626-aab2-4406-8891-d1da8bba0448",
   "metadata": {},
   "outputs": [],
   "source": [
    "def scrape_topic(topic_url, path):\n",
    "    if os.path.exists(path):\n",
    "        print(\"The file {} already exists. Skipping...\".format(path))\n",
    "        return\n",
    "    topic_df = get_topic_repos(get_topic_page(topic_url))\n",
    "    topic_df.to_csv(path, index=None)"
   ]
  },
  {
   "cell_type": "code",
   "execution_count": 32,
   "id": "fcf507c1-7964-41dc-bd33-872bf931fd00",
   "metadata": {},
   "outputs": [],
   "source": [
    "def scrape_topics_repos():\n",
    "    print('Scraping list of topics')\n",
    "    \n",
    "    os.makedirs('data1', exist_ok=True)\n",
    "    for index, row in scrap_topics().iterrows():\n",
    "        print('Scraping top repositories for \"{}\"'.format(row['Topic']))\n",
    "        scrape_topic(row['URL'], 'data1/{}.csv'.format(row['Topic']))"
   ]
  },
  {
   "cell_type": "code",
   "execution_count": 33,
   "id": "e8759e2d-37ce-4269-bbd4-ba132531a63f",
   "metadata": {},
   "outputs": [
    {
     "name": "stdout",
     "output_type": "stream",
     "text": [
      "Scraping list of topics\n",
      "Scraping top repositories for \"3D\"\n",
      "Scraping top repositories for \"Ajax\"\n",
      "Scraping top repositories for \"Algorithm\"\n",
      "Scraping top repositories for \"Amp\"\n",
      "Scraping top repositories for \"Android\"\n",
      "Scraping top repositories for \"Angular\"\n",
      "Scraping top repositories for \"Ansible\"\n",
      "Scraping top repositories for \"API\"\n",
      "Scraping top repositories for \"Arduino\"\n",
      "Scraping top repositories for \"ASP.NET\"\n",
      "Scraping top repositories for \"Atom\"\n",
      "Scraping top repositories for \"Awesome Lists\"\n",
      "Scraping top repositories for \"Amazon Web Services\"\n",
      "Scraping top repositories for \"Azure\"\n",
      "Scraping top repositories for \"Babel\"\n",
      "Scraping top repositories for \"Bash\"\n",
      "Scraping top repositories for \"Bitcoin\"\n",
      "Scraping top repositories for \"Bootstrap\"\n",
      "Scraping top repositories for \"Bot\"\n",
      "Scraping top repositories for \"C\"\n",
      "Scraping top repositories for \"Chrome\"\n",
      "Scraping top repositories for \"Chrome extension\"\n",
      "Scraping top repositories for \"Command line interface\"\n",
      "Scraping top repositories for \"Clojure\"\n",
      "Scraping top repositories for \"Code quality\"\n",
      "Scraping top repositories for \"Code review\"\n",
      "Scraping top repositories for \"Compiler\"\n",
      "Scraping top repositories for \"Continuous integration\"\n",
      "Scraping top repositories for \"COVID-19\"\n",
      "Scraping top repositories for \"C++\"\n"
     ]
    }
   ],
   "source": [
    "scrape_topics_repos()"
   ]
  },
  {
   "cell_type": "code",
   "execution_count": null,
   "id": "016eee73-406d-442e-aa3b-2c2451c68bac",
   "metadata": {},
   "outputs": [],
   "source": []
  }
 ],
 "metadata": {
  "kernelspec": {
   "display_name": "Python 3 (ipykernel)",
   "language": "python",
   "name": "python3"
  },
  "language_info": {
   "codemirror_mode": {
    "name": "ipython",
    "version": 3
   },
   "file_extension": ".py",
   "mimetype": "text/x-python",
   "name": "python",
   "nbconvert_exporter": "python",
   "pygments_lexer": "ipython3",
   "version": "3.10.7"
  }
 },
 "nbformat": 4,
 "nbformat_minor": 5
}
